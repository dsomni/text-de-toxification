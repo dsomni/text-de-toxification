{
 "cells": [
  {
   "cell_type": "markdown",
   "metadata": {
    "id": "XiDOlJQ5Zltr"
   },
   "source": [
    "# Text detoxification using fine-tunned BART\n"
   ]
  },
  {
   "cell_type": "code",
   "execution_count": 1,
   "metadata": {
    "execution": {
     "iopub.execute_input": "2023-10-24T18:04:05.137864Z",
     "iopub.status.busy": "2023-10-24T18:04:05.137419Z",
     "iopub.status.idle": "2023-10-24T18:04:07.625539Z",
     "shell.execute_reply": "2023-10-24T18:04:07.624413Z",
     "shell.execute_reply.started": "2023-10-24T18:04:05.137819Z"
    },
    "id": "tVgbGHFTZltt",
    "trusted": true
   },
   "outputs": [],
   "source": [
    "import warnings\n",
    "\n",
    "import evaluate\n",
    "import numpy as np\n",
    "import pandas as pd\n",
    "import torch\n",
    "from datasets import Dataset\n",
    "from torch.utils.data import random_split\n",
    "from tqdm import tqdm\n",
    "from transformers import (\n",
    "    AutoModelForSeq2SeqLM,\n",
    "    AutoTokenizer,\n",
    "    DataCollatorForSeq2Seq,\n",
    "    Seq2SeqTrainer,\n",
    "    Seq2SeqTrainingArguments,\n",
    ")"
   ]
  },
  {
   "cell_type": "code",
   "execution_count": 2,
   "metadata": {
    "execution": {
     "iopub.execute_input": "2023-10-24T18:04:15.799757Z",
     "iopub.status.busy": "2023-10-24T18:04:15.799318Z",
     "iopub.status.idle": "2023-10-24T18:04:15.805239Z",
     "shell.execute_reply": "2023-10-24T18:04:15.803980Z",
     "shell.execute_reply.started": "2023-10-24T18:04:15.799720Z"
    },
    "id": "9pJewVdNZltv",
    "trusted": true
   },
   "outputs": [],
   "source": [
    "MANUAL_SEED = 42\n",
    "\n",
    "warnings.filterwarnings(\"ignore\")"
   ]
  },
  {
   "cell_type": "markdown",
   "metadata": {
    "id": "RQ63lCe4Zltv"
   },
   "source": [
    "## Data loading and preprocessing\n"
   ]
  },
  {
   "cell_type": "code",
   "execution_count": 3,
   "metadata": {
    "colab": {
     "base_uri": "https://localhost:8080/",
     "height": 225
    },
    "execution": {
     "iopub.execute_input": "2023-10-24T18:04:27.035147Z",
     "iopub.status.busy": "2023-10-24T18:04:27.034720Z",
     "iopub.status.idle": "2023-10-24T18:04:27.108382Z",
     "shell.execute_reply": "2023-10-24T18:04:27.107325Z",
     "shell.execute_reply.started": "2023-10-24T18:04:27.035113Z"
    },
    "id": "CejDibkuZltv",
    "outputId": "d5a2731a-eb57-45e0-b1a9-f7cb344f3109",
    "trusted": true
   },
   "outputs": [
    {
     "name": "stdout",
     "output_type": "stream",
     "text": [
      "len(df)=9441\n"
     ]
    },
    {
     "data": {
      "text/html": [
       "<div>\n",
       "<style scoped>\n",
       "    .dataframe tbody tr th:only-of-type {\n",
       "        vertical-align: middle;\n",
       "    }\n",
       "\n",
       "    .dataframe tbody tr th {\n",
       "        vertical-align: top;\n",
       "    }\n",
       "\n",
       "    .dataframe thead th {\n",
       "        text-align: right;\n",
       "    }\n",
       "</style>\n",
       "<table border=\"1\" class=\"dataframe\">\n",
       "  <thead>\n",
       "    <tr style=\"text-align: right;\">\n",
       "      <th></th>\n",
       "      <th>toxic</th>\n",
       "      <th>nontoxic</th>\n",
       "    </tr>\n",
       "  </thead>\n",
       "  <tbody>\n",
       "    <tr>\n",
       "      <th>0</th>\n",
       "      <td>I like that shit.</td>\n",
       "      <td>I love it.</td>\n",
       "    </tr>\n",
       "    <tr>\n",
       "      <th>1</th>\n",
       "      <td>Now, I understand you got your grievances with...</td>\n",
       "      <td>I understand you don't have to cut your bills,...</td>\n",
       "    </tr>\n",
       "    <tr>\n",
       "      <th>2</th>\n",
       "      <td>Damn It!</td>\n",
       "      <td>oh, my God.</td>\n",
       "    </tr>\n",
       "    <tr>\n",
       "      <th>3</th>\n",
       "      <td>Help me, you cunt!</td>\n",
       "      <td>Aitchi, help me!</td>\n",
       "    </tr>\n",
       "    <tr>\n",
       "      <th>4</th>\n",
       "      <td>Look at that shit.</td>\n",
       "      <td>look at this.</td>\n",
       "    </tr>\n",
       "  </tbody>\n",
       "</table>\n",
       "</div>"
      ],
      "text/plain": [
       "                                               toxic  \\\n",
       "0                                  I like that shit.   \n",
       "1  Now, I understand you got your grievances with...   \n",
       "2                                           Damn It!   \n",
       "3                                 Help me, you cunt!   \n",
       "4                                 Look at that shit.   \n",
       "\n",
       "                                            nontoxic  \n",
       "0                                         I love it.  \n",
       "1  I understand you don't have to cut your bills,...  \n",
       "2                                        oh, my God.  \n",
       "3                                   Aitchi, help me!  \n",
       "4                                      look at this.  "
      ]
     },
     "execution_count": 3,
     "metadata": {},
     "output_type": "execute_result"
    }
   ],
   "source": [
    "df = pd.read_csv(\"../data/raw/dataset_xs.csv\")\n",
    "print(f\"{len(df)=}\")\n",
    "df.head()"
   ]
  },
  {
   "cell_type": "code",
   "execution_count": 4,
   "metadata": {
    "execution": {
     "iopub.execute_input": "2023-10-24T18:04:42.044212Z",
     "iopub.status.busy": "2023-10-24T18:04:42.043245Z",
     "iopub.status.idle": "2023-10-24T18:04:42.069670Z",
     "shell.execute_reply": "2023-10-24T18:04:42.068634Z",
     "shell.execute_reply.started": "2023-10-24T18:04:42.044172Z"
    },
    "trusted": true
   },
   "outputs": [
    {
     "name": "stdout",
     "output_type": "stream",
     "text": [
      "len(test_df)=500\n"
     ]
    },
    {
     "data": {
      "text/html": [
       "<div>\n",
       "<style scoped>\n",
       "    .dataframe tbody tr th:only-of-type {\n",
       "        vertical-align: middle;\n",
       "    }\n",
       "\n",
       "    .dataframe tbody tr th {\n",
       "        vertical-align: top;\n",
       "    }\n",
       "\n",
       "    .dataframe thead th {\n",
       "        text-align: right;\n",
       "    }\n",
       "</style>\n",
       "<table border=\"1\" class=\"dataframe\">\n",
       "  <thead>\n",
       "    <tr style=\"text-align: right;\">\n",
       "      <th></th>\n",
       "      <th>toxic</th>\n",
       "      <th>nontoxic</th>\n",
       "    </tr>\n",
       "  </thead>\n",
       "  <tbody>\n",
       "    <tr>\n",
       "      <th>0</th>\n",
       "      <td>It's feeding time at the fucking zoo!</td>\n",
       "      <td>it's time to eat at the zoo!</td>\n",
       "    </tr>\n",
       "    <tr>\n",
       "      <th>1</th>\n",
       "      <td>Everyone here bet on the hero and lost their a...</td>\n",
       "      <td>they all took a hero and lost everything.</td>\n",
       "    </tr>\n",
       "    <tr>\n",
       "      <th>2</th>\n",
       "      <td>Then I got to come home to Melvin and his bull...</td>\n",
       "      <td>then I'm going home and Melvin's there.</td>\n",
       "    </tr>\n",
       "    <tr>\n",
       "      <th>3</th>\n",
       "      <td>Sara here was hoping to pick your brains.</td>\n",
       "      <td>Sara was hoping you could handle her.</td>\n",
       "    </tr>\n",
       "    <tr>\n",
       "      <th>4</th>\n",
       "      <td>Oh, that's stupid. If anyone wants to tell me ...</td>\n",
       "      <td>if anyone wants to tell me what's going on, I'...</td>\n",
       "    </tr>\n",
       "  </tbody>\n",
       "</table>\n",
       "</div>"
      ],
      "text/plain": [
       "                                               toxic  \\\n",
       "0              It's feeding time at the fucking zoo!   \n",
       "1  Everyone here bet on the hero and lost their a...   \n",
       "2  Then I got to come home to Melvin and his bull...   \n",
       "3          Sara here was hoping to pick your brains.   \n",
       "4  Oh, that's stupid. If anyone wants to tell me ...   \n",
       "\n",
       "                                            nontoxic  \n",
       "0                       it's time to eat at the zoo!  \n",
       "1          they all took a hero and lost everything.  \n",
       "2            then I'm going home and Melvin's there.  \n",
       "3              Sara was hoping you could handle her.  \n",
       "4  if anyone wants to tell me what's going on, I'...  "
      ]
     },
     "execution_count": 4,
     "metadata": {},
     "output_type": "execute_result"
    }
   ],
   "source": [
    "test_df = pd.read_csv(\"../data/raw/test.csv\")\n",
    "print(f\"{len(test_df)=}\")\n",
    "test_df.head()"
   ]
  },
  {
   "cell_type": "code",
   "execution_count": 5,
   "metadata": {
    "colab": {
     "base_uri": "https://localhost:8080/"
    },
    "execution": {
     "iopub.execute_input": "2023-10-24T18:04:44.888195Z",
     "iopub.status.busy": "2023-10-24T18:04:44.887372Z",
     "iopub.status.idle": "2023-10-24T18:04:44.945762Z",
     "shell.execute_reply": "2023-10-24T18:04:44.944558Z",
     "shell.execute_reply.started": "2023-10-24T18:04:44.888153Z"
    },
    "id": "hv8yFajCZltx",
    "outputId": "821cc92c-501e-4c5f-8572-bf96f8b2a886",
    "trusted": true
   },
   "outputs": [
    {
     "name": "stdout",
     "output_type": "stream",
     "text": [
      "len(train_indices)=8497\n",
      "len(val_indices)=944\n"
     ]
    }
   ],
   "source": [
    "train_seq, val_seq = random_split(\n",
    "    range(len(df)),  # type: ignore\n",
    "    [0.9, 0.1],\n",
    "    generator=torch.Generator().manual_seed(MANUAL_SEED),\n",
    ")\n",
    "train_indices, val_indices = (\n",
    "    list(train_seq.indices),\n",
    "    list(val_seq.indices),\n",
    ")\n",
    "print(f\"{len(train_indices)=}\")\n",
    "print(f\"{len(val_indices)=}\")"
   ]
  },
  {
   "cell_type": "markdown",
   "metadata": {
    "id": "zb0jIcuHZltw"
   },
   "source": [
    "## Model definition\n"
   ]
  },
  {
   "cell_type": "code",
   "execution_count": 8,
   "metadata": {
    "execution": {
     "iopub.execute_input": "2023-10-24T18:04:53.311030Z",
     "iopub.status.busy": "2023-10-24T18:04:53.310170Z",
     "iopub.status.idle": "2023-10-24T18:05:12.758165Z",
     "shell.execute_reply": "2023-10-24T18:05:12.756796Z",
     "shell.execute_reply.started": "2023-10-24T18:04:53.310989Z"
    },
    "id": "cL3MMtpTZltw",
    "trusted": true
   },
   "outputs": [
    {
     "data": {
      "application/vnd.jupyter.widget-view+json": {
       "model_id": "4667d4f21ad644478eb3c73d23594f9f",
       "version_major": 2,
       "version_minor": 0
      },
      "text/plain": [
       "Downloading (…)okenizer_config.json:   0%|          | 0.00/332 [00:00<?, ?B/s]"
      ]
     },
     "metadata": {},
     "output_type": "display_data"
    },
    {
     "data": {
      "application/vnd.jupyter.widget-view+json": {
       "model_id": "1d4ad0ecf1484d66a48670c95df725f3",
       "version_major": 2,
       "version_minor": 0
      },
      "text/plain": [
       "Downloading (…)olve/main/vocab.json:   0%|          | 0.00/798k [00:00<?, ?B/s]"
      ]
     },
     "metadata": {},
     "output_type": "display_data"
    },
    {
     "data": {
      "application/vnd.jupyter.widget-view+json": {
       "model_id": "81c74e18e04a44e588d074efa8251290",
       "version_major": 2,
       "version_minor": 0
      },
      "text/plain": [
       "Downloading (…)olve/main/merges.txt:   0%|          | 0.00/456k [00:00<?, ?B/s]"
      ]
     },
     "metadata": {},
     "output_type": "display_data"
    },
    {
     "data": {
      "application/vnd.jupyter.widget-view+json": {
       "model_id": "48d2b0127cfe4bc9b3e6c2f9c2ac193c",
       "version_major": 2,
       "version_minor": 0
      },
      "text/plain": [
       "Downloading (…)/main/tokenizer.json:   0%|          | 0.00/1.36M [00:00<?, ?B/s]"
      ]
     },
     "metadata": {},
     "output_type": "display_data"
    },
    {
     "data": {
      "application/vnd.jupyter.widget-view+json": {
       "model_id": "4a369cc91ce94732af0830e34afc70b9",
       "version_major": 2,
       "version_minor": 0
      },
      "text/plain": [
       "Downloading (…)cial_tokens_map.json:   0%|          | 0.00/239 [00:00<?, ?B/s]"
      ]
     },
     "metadata": {},
     "output_type": "display_data"
    },
    {
     "data": {
      "application/vnd.jupyter.widget-view+json": {
       "model_id": "0da1f95d23b94baa906deee150c2c9f3",
       "version_major": 2,
       "version_minor": 0
      },
      "text/plain": [
       "Downloading (…)lve/main/config.json:   0%|          | 0.00/1.69k [00:00<?, ?B/s]"
      ]
     },
     "metadata": {},
     "output_type": "display_data"
    },
    {
     "data": {
      "application/vnd.jupyter.widget-view+json": {
       "model_id": "0bccf4cdb26043509c2022326cbccb9f",
       "version_major": 2,
       "version_minor": 0
      },
      "text/plain": [
       "Downloading model.safetensors:   0%|          | 0.00/1.63G [00:00<?, ?B/s]"
      ]
     },
     "metadata": {},
     "output_type": "display_data"
    }
   ],
   "source": [
    "checkpoint = \"eugenesiow/bart-paraphrase\"\n",
    "\n",
    "tokenizer = AutoTokenizer.from_pretrained(checkpoint)\n",
    "model = AutoModelForSeq2SeqLM.from_pretrained(checkpoint)\n",
    "data_collator = DataCollatorForSeq2Seq(tokenizer=tokenizer, model=checkpoint)"
   ]
  },
  {
   "cell_type": "code",
   "execution_count": 6,
   "metadata": {
    "execution": {
     "iopub.execute_input": "2023-10-24T18:05:21.359799Z",
     "iopub.status.busy": "2023-10-24T18:05:21.359367Z",
     "iopub.status.idle": "2023-10-24T18:05:21.631432Z",
     "shell.execute_reply": "2023-10-24T18:05:21.630194Z",
     "shell.execute_reply.started": "2023-10-24T18:05:21.359763Z"
    },
    "trusted": true
   },
   "outputs": [],
   "source": [
    "BATCH_SIZE = 16\n",
    "\n",
    "PREFIX = \"paraphrase following to be nontoxic: \\n\"\n",
    "MAX_LENGTH = 128"
   ]
  },
  {
   "cell_type": "code",
   "execution_count": 7,
   "metadata": {
    "execution": {
     "iopub.execute_input": "2023-10-24T18:05:27.313706Z",
     "iopub.status.busy": "2023-10-24T18:05:27.313254Z",
     "iopub.status.idle": "2023-10-24T18:05:28.625095Z",
     "shell.execute_reply": "2023-10-24T18:05:28.623968Z",
     "shell.execute_reply.started": "2023-10-24T18:05:27.313673Z"
    },
    "trusted": true
   },
   "outputs": [],
   "source": [
    "def preprocess_function(data):\n",
    "    inputs = [PREFIX + data_point for data_point in data[\"toxic\"]]\n",
    "    targets = data[\"nontoxic\"]\n",
    "    model_inputs = tokenizer(\n",
    "        inputs, text_target=targets, max_length=MAX_LENGTH, truncation=True\n",
    "    )\n",
    "    return model_inputs\n",
    "\n",
    "\n",
    "def post_process_text(predictions, targets):\n",
    "    predictions = [pred.strip() for pred in predictions]\n",
    "    targets = [label.strip() for label in targets]\n",
    "    return predictions, targets\n",
    "\n",
    "\n",
    "BLEU_METRIC = evaluate.load(\"bleu\")\n",
    "\n",
    "\n",
    "def compute_metrics(batch):\n",
    "    predictions, targets = batch\n",
    "    if isinstance(predictions, tuple):\n",
    "        predictions = predictions[0]\n",
    "\n",
    "    decoded_predictions = tokenizer.batch_decode(predictions, skip_special_tokens=True)\n",
    "\n",
    "    targets = np.where(targets != -100, targets, tokenizer.pad_token_id)  # type: ignore\n",
    "    decoded_targets = tokenizer.batch_decode(targets, skip_special_tokens=True)\n",
    "\n",
    "    decoded_predictions, decoded_targets = post_process_text(\n",
    "        decoded_predictions, decoded_targets\n",
    "    )\n",
    "\n",
    "    result = {}\n",
    "    metrics = BLEU_METRIC.compute(\n",
    "        predictions=decoded_predictions, references=decoded_targets\n",
    "    )\n",
    "    if metrics is not None:\n",
    "        result.update({\"bleu\": metrics[\"bleu\"]})\n",
    "\n",
    "    prediction_lens = [\n",
    "        np.count_nonzero(pred != tokenizer.pad_token_id) for pred in predictions\n",
    "    ]\n",
    "    result[\"gen_len\"] = np.mean(prediction_lens)\n",
    "    result = {k: round(v, 4) for k, v in result.items()}\n",
    "    return result"
   ]
  },
  {
   "cell_type": "code",
   "execution_count": 12,
   "metadata": {
    "colab": {
     "base_uri": "https://localhost:8080/",
     "height": 81,
     "referenced_widgets": [
      "7399a416781541d790d3c60ecd822715",
      "00be305d4c1641248f93b6c74ddeb5e8",
      "352a77379391433d900e87469216cb1d",
      "8f019f95684f48f6a08c2361e9f74b2a",
      "a1bb98b29b10450e9126383c2bf36c62",
      "ebdcf153121b49c383f3d39f15ce8eff",
      "dade04b60c944d7e8a7fc40367c2adc1",
      "70c3fa74e6354e55862e25f61398ee9c",
      "523eb4ae2ebf42c2862e3fb68b8c4f45",
      "fc42c6cf78d94a58b886ac2378dcbf5a",
      "55daa33558c0464d92ba406eaf5ed9cd",
      "5c12e1a388404055ae3474e38e0cfe1a",
      "9adf08ed4c404462b4e890a26323c830",
      "c111e917efd74a3c8a4d4658ffed736f",
      "4758cc3ef3e04360ae588ef1e36c28a6",
      "7aac55bbd9734cfe8d6fd02ea5bea9b2",
      "3de399c0524f4388a718425cc89692b5",
      "acfbe837dfc14fd7b8626402071d9912",
      "f2a3068ede2d47ff8b23aade0f5c8eba",
      "9dc148b3155040afa1f7168d75946786",
      "f9d9418f42ef4f30b4170040618afdaf",
      "22f56c0f12d54f038073d91c3ecf2da2"
     ]
    },
    "execution": {
     "iopub.execute_input": "2023-10-24T18:05:36.284824Z",
     "iopub.status.busy": "2023-10-24T18:05:36.284399Z",
     "iopub.status.idle": "2023-10-24T18:05:37.283489Z",
     "shell.execute_reply": "2023-10-24T18:05:37.282338Z",
     "shell.execute_reply.started": "2023-10-24T18:05:36.284790Z"
    },
    "id": "tPwppfLFZltx",
    "outputId": "0f357ed1-ae45-4acc-a1f7-8e658144d63c",
    "trusted": true
   },
   "outputs": [
    {
     "data": {
      "application/vnd.jupyter.widget-view+json": {
       "model_id": "8ac0f5e22b0a4e8b9c5598f72bf85a62",
       "version_major": 2,
       "version_minor": 0
      },
      "text/plain": [
       "  0%|          | 0/9 [00:00<?, ?ba/s]"
      ]
     },
     "metadata": {},
     "output_type": "display_data"
    },
    {
     "data": {
      "application/vnd.jupyter.widget-view+json": {
       "model_id": "cddca59a0c2a4a279b606cc9319cc7e8",
       "version_major": 2,
       "version_minor": 0
      },
      "text/plain": [
       "  0%|          | 0/1 [00:00<?, ?ba/s]"
      ]
     },
     "metadata": {},
     "output_type": "display_data"
    }
   ],
   "source": [
    "train_dataset = Dataset.from_pandas(df.iloc[train_indices]).map(\n",
    "    preprocess_function, batched=True\n",
    ")\n",
    "val_dataset = Dataset.from_pandas(df.iloc[val_indices]).map(\n",
    "    preprocess_function, batched=True\n",
    ")"
   ]
  },
  {
   "cell_type": "markdown",
   "metadata": {},
   "source": [
    "## Train model\n"
   ]
  },
  {
   "cell_type": "code",
   "execution_count": 14,
   "metadata": {
    "execution": {
     "iopub.execute_input": "2023-10-24T18:06:36.903279Z",
     "iopub.status.busy": "2023-10-24T18:06:36.902389Z",
     "iopub.status.idle": "2023-10-24T18:06:36.922632Z",
     "shell.execute_reply": "2023-10-24T18:06:36.921245Z",
     "shell.execute_reply.started": "2023-10-24T18:06:36.903241Z"
    },
    "id": "DJXws5ttZlty",
    "trusted": true
   },
   "outputs": [],
   "source": [
    "training_args = Seq2SeqTrainingArguments(\n",
    "    output_dir=\"../models/train_data/bart\",\n",
    "    evaluation_strategy=\"epoch\",\n",
    "    learning_rate=1e-4,\n",
    "    per_device_train_batch_size=BATCH_SIZE,\n",
    "    per_device_eval_batch_size=BATCH_SIZE,\n",
    "    weight_decay=0.01,\n",
    "    save_total_limit=3,\n",
    "    num_train_epochs=10,\n",
    "    predict_with_generate=True,\n",
    "    report_to=\"none\",\n",
    ")\n",
    "\n",
    "trainer = Seq2SeqTrainer(\n",
    "    model=model,\n",
    "    args=training_args,\n",
    "    train_dataset=train_dataset,  # type: ignore\n",
    "    eval_dataset=val_dataset,  # type: ignore\n",
    "    tokenizer=tokenizer,\n",
    "    data_collator=data_collator,\n",
    "    compute_metrics=compute_metrics,\n",
    ")"
   ]
  },
  {
   "cell_type": "code",
   "execution_count": 15,
   "metadata": {
    "colab": {
     "base_uri": "https://localhost:8080/",
     "height": 464
    },
    "execution": {
     "iopub.execute_input": "2023-10-24T18:06:39.495330Z",
     "iopub.status.busy": "2023-10-24T18:06:39.494229Z",
     "iopub.status.idle": "2023-10-24T18:53:51.651775Z",
     "shell.execute_reply": "2023-10-24T18:53:51.650544Z",
     "shell.execute_reply.started": "2023-10-24T18:06:39.495291Z"
    },
    "id": "Lmixb-nLZlty",
    "outputId": "03289a9a-4e1d-4677-eb50-7b877a803dbe",
    "trusted": true
   },
   "outputs": [
    {
     "name": "stderr",
     "output_type": "stream",
     "text": [
      "You're using a BartTokenizerFast tokenizer. Please note that with a fast tokenizer, using the `__call__` method is faster than using a method to encode the text followed by a call to the `pad` method to get a padded encoding.\n"
     ]
    },
    {
     "data": {
      "text/html": [
       "\n",
       "    <div>\n",
       "      \n",
       "      <progress value='2660' max='2660' style='width:300px; height:20px; vertical-align: middle;'></progress>\n",
       "      [2660/2660 47:03, Epoch 10/10]\n",
       "    </div>\n",
       "    <table border=\"1\" class=\"dataframe\">\n",
       "  <thead>\n",
       " <tr style=\"text-align: left;\">\n",
       "      <th>Epoch</th>\n",
       "      <th>Training Loss</th>\n",
       "      <th>Validation Loss</th>\n",
       "      <th>Bleu</th>\n",
       "      <th>Gen Len</th>\n",
       "    </tr>\n",
       "  </thead>\n",
       "  <tbody>\n",
       "    <tr>\n",
       "      <td>1</td>\n",
       "      <td>No log</td>\n",
       "      <td>1.230303</td>\n",
       "      <td>0.414400</td>\n",
       "      <td>10.454400</td>\n",
       "    </tr>\n",
       "    <tr>\n",
       "      <td>2</td>\n",
       "      <td>1.207600</td>\n",
       "      <td>1.233634</td>\n",
       "      <td>0.424600</td>\n",
       "      <td>10.829400</td>\n",
       "    </tr>\n",
       "    <tr>\n",
       "      <td>3</td>\n",
       "      <td>1.207600</td>\n",
       "      <td>1.271080</td>\n",
       "      <td>0.461700</td>\n",
       "      <td>10.809300</td>\n",
       "    </tr>\n",
       "    <tr>\n",
       "      <td>4</td>\n",
       "      <td>0.595100</td>\n",
       "      <td>1.374489</td>\n",
       "      <td>0.454900</td>\n",
       "      <td>10.162100</td>\n",
       "    </tr>\n",
       "    <tr>\n",
       "      <td>5</td>\n",
       "      <td>0.595100</td>\n",
       "      <td>1.461647</td>\n",
       "      <td>0.466600</td>\n",
       "      <td>10.586900</td>\n",
       "    </tr>\n",
       "    <tr>\n",
       "      <td>6</td>\n",
       "      <td>0.330200</td>\n",
       "      <td>1.599013</td>\n",
       "      <td>0.465500</td>\n",
       "      <td>10.157800</td>\n",
       "    </tr>\n",
       "    <tr>\n",
       "      <td>7</td>\n",
       "      <td>0.330200</td>\n",
       "      <td>1.717306</td>\n",
       "      <td>0.481200</td>\n",
       "      <td>10.037100</td>\n",
       "    </tr>\n",
       "    <tr>\n",
       "      <td>8</td>\n",
       "      <td>0.197900</td>\n",
       "      <td>1.757943</td>\n",
       "      <td>0.476600</td>\n",
       "      <td>10.194900</td>\n",
       "    </tr>\n",
       "    <tr>\n",
       "      <td>9</td>\n",
       "      <td>0.197900</td>\n",
       "      <td>1.839077</td>\n",
       "      <td>0.476900</td>\n",
       "      <td>10.358100</td>\n",
       "    </tr>\n",
       "    <tr>\n",
       "      <td>10</td>\n",
       "      <td>0.124500</td>\n",
       "      <td>1.887974</td>\n",
       "      <td>0.484000</td>\n",
       "      <td>10.076300</td>\n",
       "    </tr>\n",
       "  </tbody>\n",
       "</table><p>"
      ],
      "text/plain": [
       "<IPython.core.display.HTML object>"
      ]
     },
     "metadata": {},
     "output_type": "display_data"
    },
    {
     "data": {
      "text/plain": [
       "TrainOutput(global_step=2660, training_loss=0.4673067569732666, metrics={'train_runtime': 2831.7826, 'train_samples_per_second': 30.006, 'train_steps_per_second': 0.939, 'total_flos': 6903838671986688.0, 'train_loss': 0.4673067569732666, 'epoch': 10.0})"
      ]
     },
     "execution_count": 15,
     "metadata": {},
     "output_type": "execute_result"
    }
   ],
   "source": [
    "trainer.train()"
   ]
  },
  {
   "cell_type": "code",
   "execution_count": 16,
   "metadata": {
    "execution": {
     "iopub.execute_input": "2023-10-24T18:56:20.866585Z",
     "iopub.status.busy": "2023-10-24T18:56:20.866112Z",
     "iopub.status.idle": "2023-10-24T18:56:23.564918Z",
     "shell.execute_reply": "2023-10-24T18:56:23.563971Z",
     "shell.execute_reply.started": "2023-10-24T18:56:20.866550Z"
    },
    "id": "Irgem4KoZlty",
    "trusted": true
   },
   "outputs": [],
   "source": [
    "trainer.save_model(\"../models/bart\")"
   ]
  },
  {
   "cell_type": "markdown",
   "metadata": {},
   "source": [
    "## Test model\n"
   ]
  },
  {
   "cell_type": "markdown",
   "metadata": {},
   "source": [
    "I save my model to Hugging Face Hub, because source files are quite big (about 1.6G)"
   ]
  },
  {
   "cell_type": "code",
   "execution_count": 30,
   "metadata": {
    "execution": {
     "iopub.execute_input": "2023-10-24T19:27:04.630815Z",
     "iopub.status.busy": "2023-10-24T19:27:04.630007Z",
     "iopub.status.idle": "2023-10-24T19:28:09.422689Z",
     "shell.execute_reply": "2023-10-24T19:28:09.421675Z",
     "shell.execute_reply.started": "2023-10-24T19:27:04.630776Z"
    },
    "trusted": true
   },
   "outputs": [
    {
     "name": "stdout",
     "output_type": "stream",
     "text": [
      "Token will not been saved to git credential helper. Pass `add_to_git_credential=True` if you want to set the git credential as well.\n",
      "Token is valid (permission: write).\n",
      "Your token has been saved to /root/.cache/huggingface/token\n",
      "Login successful\n"
     ]
    },
    {
     "data": {
      "application/vnd.jupyter.widget-view+json": {
       "model_id": "b93d1d3bf1f84e67a268cd6f51593493",
       "version_major": 2,
       "version_minor": 0
      },
      "text/plain": [
       "pytorch_model.bin:   0%|          | 0.00/1.63G [00:00<?, ?B/s]"
      ]
     },
     "metadata": {},
     "output_type": "display_data"
    }
   ],
   "source": [
    "def save_to_hub(model, tokenizer, name: str = \"pmldl1-bart\"):\n",
    "    from huggingface_hub import login\n",
    "\n",
    "    login(token=\"...\")\n",
    "    tokenizer.push_to_hub(name)\n",
    "    model.push_to_hub(name)\n",
    "\n",
    "\n",
    "# save_to_hub(AutoModelForSeq2SeqLM.from_pretrained(\"../models/bart\"), AutoTokenizer.from_pretrained(\"eugenesiow/bart-paraphrase\"))"
   ]
  },
  {
   "cell_type": "code",
   "execution_count": 8,
   "metadata": {
    "execution": {
     "iopub.execute_input": "2023-10-24T19:29:21.253597Z",
     "iopub.status.busy": "2023-10-24T19:29:21.253129Z",
     "iopub.status.idle": "2023-10-24T19:30:03.020971Z",
     "shell.execute_reply": "2023-10-24T19:30:03.019773Z",
     "shell.execute_reply.started": "2023-10-24T19:29:21.253560Z"
    },
    "trusted": true
   },
   "outputs": [
    {
     "data": {
      "application/vnd.jupyter.widget-view+json": {
       "model_id": "504acff9460f44e0a7d612a7df1b0089",
       "version_major": 2,
       "version_minor": 0
      },
      "text/plain": [
       "Downloading (…)lve/main/config.json:   0%|          | 0.00/1.69k [00:00<?, ?B/s]"
      ]
     },
     "metadata": {},
     "output_type": "display_data"
    },
    {
     "data": {
      "application/vnd.jupyter.widget-view+json": {
       "model_id": "70d386f9a08447c19e343a343388bd38",
       "version_major": 2,
       "version_minor": 0
      },
      "text/plain": [
       "Downloading pytorch_model.bin:   0%|          | 0.00/1.63G [00:00<?, ?B/s]"
      ]
     },
     "metadata": {},
     "output_type": "display_data"
    },
    {
     "data": {
      "application/vnd.jupyter.widget-view+json": {
       "model_id": "4c37b265059947e3a5a8e01919b23227",
       "version_major": 2,
       "version_minor": 0
      },
      "text/plain": [
       "Downloading (…)neration_config.json:   0%|          | 0.00/234 [00:00<?, ?B/s]"
      ]
     },
     "metadata": {},
     "output_type": "display_data"
    },
    {
     "data": {
      "application/vnd.jupyter.widget-view+json": {
       "model_id": "ea55661c83d34292a03f5b6a8a3d3b57",
       "version_major": 2,
       "version_minor": 0
      },
      "text/plain": [
       "Downloading (…)okenizer_config.json:   0%|          | 0.00/540 [00:00<?, ?B/s]"
      ]
     },
     "metadata": {},
     "output_type": "display_data"
    }
   ],
   "source": [
    "my_model = \"dsomni/pmldl1-bart\"\n",
    "\n",
    "model = AutoModelForSeq2SeqLM.from_pretrained(my_model)\n",
    "tokenizer = AutoTokenizer.from_pretrained(my_model)"
   ]
  },
  {
   "cell_type": "code",
   "execution_count": 14,
   "metadata": {
    "execution": {
     "iopub.execute_input": "2023-10-24T19:30:52.957898Z",
     "iopub.status.busy": "2023-10-24T19:30:52.956891Z",
     "iopub.status.idle": "2023-10-24T19:30:52.965470Z",
     "shell.execute_reply": "2023-10-24T19:30:52.964282Z",
     "shell.execute_reply.started": "2023-10-24T19:30:52.957859Z"
    },
    "id": "Z0RAOs8ZZlty",
    "trusted": true
   },
   "outputs": [],
   "source": [
    "model.eval()\n",
    "model.config.use_cache = False"
   ]
  },
  {
   "cell_type": "code",
   "execution_count": 15,
   "metadata": {
    "execution": {
     "iopub.execute_input": "2023-10-24T19:30:56.759810Z",
     "iopub.status.busy": "2023-10-24T19:30:56.759388Z",
     "iopub.status.idle": "2023-10-24T19:30:57.852637Z",
     "shell.execute_reply": "2023-10-24T19:30:57.850942Z",
     "shell.execute_reply.started": "2023-10-24T19:30:56.759776Z"
    },
    "id": "ljFpp1BLvpRc",
    "trusted": true
   },
   "outputs": [
    {
     "data": {
      "text/plain": [
       "'quiet, man.'"
      ]
     },
     "execution_count": 15,
     "metadata": {},
     "output_type": "execute_result"
    }
   ],
   "source": [
    "def detoxify(model, tokenizer, prompt: str) -> str:\n",
    "    inference_request = PREFIX + prompt\n",
    "    input_ids = tokenizer(inference_request, return_tensors=\"pt\").input_ids\n",
    "    outputs = model.generate(input_ids=input_ids)\n",
    "    return tokenizer.decode(outputs[0], skip_special_tokens=True, temperature=0)\n",
    "\n",
    "\n",
    "detoxify(model, tokenizer, \"shut up, man\")"
   ]
  },
  {
   "cell_type": "code",
   "execution_count": 35,
   "metadata": {
    "colab": {
     "base_uri": "https://localhost:8080/"
    },
    "execution": {
     "iopub.execute_input": "2023-10-24T19:30:59.918756Z",
     "iopub.status.busy": "2023-10-24T19:30:59.918316Z",
     "iopub.status.idle": "2023-10-24T19:45:22.776721Z",
     "shell.execute_reply": "2023-10-24T19:45:22.775586Z",
     "shell.execute_reply.started": "2023-10-24T19:30:59.918720Z"
    },
    "id": "xnQNV6KrurrT",
    "outputId": "7957fef9-0a2f-4000-e723-2bb4dd501ad8",
    "trusted": true
   },
   "outputs": [
    {
     "name": "stderr",
     "output_type": "stream",
     "text": [
      "100%|██████████| 500/500 [14:22<00:00,  1.73s/it]\n"
     ]
    }
   ],
   "source": [
    "model_answers = []\n",
    "for i, r in tqdm(test_df.iterrows(), total=len(test_df)):\n",
    "    model_answers.append(detoxify(model, tokenizer, r[\"toxic\"]))\n",
    "\n",
    "\n",
    "test_df[\"generated\"] = model_answers"
   ]
  },
  {
   "cell_type": "code",
   "execution_count": 40,
   "metadata": {
    "colab": {
     "base_uri": "https://localhost:8080/",
     "height": 206
    },
    "execution": {
     "iopub.execute_input": "2023-10-24T19:55:02.831989Z",
     "iopub.status.busy": "2023-10-24T19:55:02.831461Z",
     "iopub.status.idle": "2023-10-24T19:55:02.844579Z",
     "shell.execute_reply": "2023-10-24T19:55:02.843423Z",
     "shell.execute_reply.started": "2023-10-24T19:55:02.831919Z"
    },
    "id": "3RM-e0BFv_56",
    "outputId": "7694c369-28e6-43a8-d35b-d6a4b3ba87fd",
    "trusted": true
   },
   "outputs": [
    {
     "data": {
      "text/html": [
       "<div>\n",
       "<style scoped>\n",
       "    .dataframe tbody tr th:only-of-type {\n",
       "        vertical-align: middle;\n",
       "    }\n",
       "\n",
       "    .dataframe tbody tr th {\n",
       "        vertical-align: top;\n",
       "    }\n",
       "\n",
       "    .dataframe thead th {\n",
       "        text-align: right;\n",
       "    }\n",
       "</style>\n",
       "<table border=\"1\" class=\"dataframe\">\n",
       "  <thead>\n",
       "    <tr style=\"text-align: right;\">\n",
       "      <th></th>\n",
       "      <th>toxic</th>\n",
       "      <th>nontoxic</th>\n",
       "      <th>generated</th>\n",
       "    </tr>\n",
       "  </thead>\n",
       "  <tbody>\n",
       "    <tr>\n",
       "      <th>0</th>\n",
       "      <td>It's feeding time at the fucking zoo!</td>\n",
       "      <td>it's time to eat at the zoo!</td>\n",
       "      <td>it's feeding time at the zoo.</td>\n",
       "    </tr>\n",
       "    <tr>\n",
       "      <th>1</th>\n",
       "      <td>Everyone here bet on the hero and lost their a...</td>\n",
       "      <td>they all took a hero and lost everything.</td>\n",
       "      <td>everyone here bet on him and they lost.</td>\n",
       "    </tr>\n",
       "    <tr>\n",
       "      <th>2</th>\n",
       "      <td>Then I got to come home to Melvin and his bull...</td>\n",
       "      <td>then I'm going home and Melvin's there.</td>\n",
       "      <td>then I have to come home to talk to Melvin.</td>\n",
       "    </tr>\n",
       "    <tr>\n",
       "      <th>3</th>\n",
       "      <td>Sara here was hoping to pick your brains.</td>\n",
       "      <td>Sara was hoping you could handle her.</td>\n",
       "      <td>Sara here was hoping to pick your brains.</td>\n",
       "    </tr>\n",
       "    <tr>\n",
       "      <th>4</th>\n",
       "      <td>Oh, that's stupid. If anyone wants to tell me ...</td>\n",
       "      <td>if anyone wants to tell me what's going on, I'...</td>\n",
       "      <td>if anyone wants to talk to me, I'll be in the ...</td>\n",
       "    </tr>\n",
       "  </tbody>\n",
       "</table>\n",
       "</div>"
      ],
      "text/plain": [
       "                                               toxic  \\\n",
       "0              It's feeding time at the fucking zoo!   \n",
       "1  Everyone here bet on the hero and lost their a...   \n",
       "2  Then I got to come home to Melvin and his bull...   \n",
       "3          Sara here was hoping to pick your brains.   \n",
       "4  Oh, that's stupid. If anyone wants to tell me ...   \n",
       "\n",
       "                                            nontoxic  \\\n",
       "0                       it's time to eat at the zoo!   \n",
       "1          they all took a hero and lost everything.   \n",
       "2            then I'm going home and Melvin's there.   \n",
       "3              Sara was hoping you could handle her.   \n",
       "4  if anyone wants to tell me what's going on, I'...   \n",
       "\n",
       "                                           generated  \n",
       "0                      it's feeding time at the zoo.  \n",
       "1            everyone here bet on him and they lost.  \n",
       "2        then I have to come home to talk to Melvin.  \n",
       "3          Sara here was hoping to pick your brains.  \n",
       "4  if anyone wants to talk to me, I'll be in the ...  "
      ]
     },
     "execution_count": 40,
     "metadata": {},
     "output_type": "execute_result"
    }
   ],
   "source": [
    "test_df.head()"
   ]
  },
  {
   "cell_type": "markdown",
   "metadata": {},
   "source": [
    "## Save results\n"
   ]
  },
  {
   "cell_type": "code",
   "execution_count": 41,
   "metadata": {
    "execution": {
     "iopub.execute_input": "2023-10-24T19:55:06.000983Z",
     "iopub.status.busy": "2023-10-24T19:55:06.000522Z",
     "iopub.status.idle": "2023-10-24T19:55:06.016385Z",
     "shell.execute_reply": "2023-10-24T19:55:06.015003Z",
     "shell.execute_reply.started": "2023-10-24T19:55:06.000946Z"
    },
    "id": "ZDkmW93h3h-7",
    "trusted": true
   },
   "outputs": [],
   "source": [
    "test_df.to_csv(\"../data/generated/bart.csv\", index=False)"
   ]
  }
 ],
 "metadata": {
  "accelerator": "GPU",
  "colab": {
   "gpuType": "T4",
   "provenance": []
  },
  "kernelspec": {
   "display_name": "Python 3",
   "language": "python",
   "name": "python3"
  },
  "language_info": {
   "codemirror_mode": {
    "name": "ipython",
    "version": 3
   },
   "file_extension": ".py",
   "mimetype": "text/x-python",
   "name": "python",
   "nbconvert_exporter": "python",
   "pygments_lexer": "ipython3",
   "version": "3.11.0"
  },
  "widgets": {
   "application/vnd.jupyter.widget-state+json": {
    "00be305d4c1641248f93b6c74ddeb5e8": {
     "model_module": "@jupyter-widgets/controls",
     "model_module_version": "1.5.0",
     "model_name": "HTMLModel",
     "state": {
      "_dom_classes": [],
      "_model_module": "@jupyter-widgets/controls",
      "_model_module_version": "1.5.0",
      "_model_name": "HTMLModel",
      "_view_count": null,
      "_view_module": "@jupyter-widgets/controls",
      "_view_module_version": "1.5.0",
      "_view_name": "HTMLView",
      "description": "",
      "description_tooltip": null,
      "layout": "IPY_MODEL_ebdcf153121b49c383f3d39f15ce8eff",
      "placeholder": "​",
      "style": "IPY_MODEL_dade04b60c944d7e8a7fc40367c2adc1",
      "value": "Map: 100%"
     }
    },
    "22f56c0f12d54f038073d91c3ecf2da2": {
     "model_module": "@jupyter-widgets/controls",
     "model_module_version": "1.5.0",
     "model_name": "DescriptionStyleModel",
     "state": {
      "_model_module": "@jupyter-widgets/controls",
      "_model_module_version": "1.5.0",
      "_model_name": "DescriptionStyleModel",
      "_view_count": null,
      "_view_module": "@jupyter-widgets/base",
      "_view_module_version": "1.2.0",
      "_view_name": "StyleView",
      "description_width": ""
     }
    },
    "352a77379391433d900e87469216cb1d": {
     "model_module": "@jupyter-widgets/controls",
     "model_module_version": "1.5.0",
     "model_name": "FloatProgressModel",
     "state": {
      "_dom_classes": [],
      "_model_module": "@jupyter-widgets/controls",
      "_model_module_version": "1.5.0",
      "_model_name": "FloatProgressModel",
      "_view_count": null,
      "_view_module": "@jupyter-widgets/controls",
      "_view_module_version": "1.5.0",
      "_view_name": "ProgressView",
      "bar_style": "success",
      "description": "",
      "description_tooltip": null,
      "layout": "IPY_MODEL_70c3fa74e6354e55862e25f61398ee9c",
      "max": 8043,
      "min": 0,
      "orientation": "horizontal",
      "style": "IPY_MODEL_523eb4ae2ebf42c2862e3fb68b8c4f45",
      "value": 8043
     }
    },
    "3de399c0524f4388a718425cc89692b5": {
     "model_module": "@jupyter-widgets/base",
     "model_module_version": "1.2.0",
     "model_name": "LayoutModel",
     "state": {
      "_model_module": "@jupyter-widgets/base",
      "_model_module_version": "1.2.0",
      "_model_name": "LayoutModel",
      "_view_count": null,
      "_view_module": "@jupyter-widgets/base",
      "_view_module_version": "1.2.0",
      "_view_name": "LayoutView",
      "align_content": null,
      "align_items": null,
      "align_self": null,
      "border": null,
      "bottom": null,
      "display": null,
      "flex": null,
      "flex_flow": null,
      "grid_area": null,
      "grid_auto_columns": null,
      "grid_auto_flow": null,
      "grid_auto_rows": null,
      "grid_column": null,
      "grid_gap": null,
      "grid_row": null,
      "grid_template_areas": null,
      "grid_template_columns": null,
      "grid_template_rows": null,
      "height": null,
      "justify_content": null,
      "justify_items": null,
      "left": null,
      "margin": null,
      "max_height": null,
      "max_width": null,
      "min_height": null,
      "min_width": null,
      "object_fit": null,
      "object_position": null,
      "order": null,
      "overflow": null,
      "overflow_x": null,
      "overflow_y": null,
      "padding": null,
      "right": null,
      "top": null,
      "visibility": null,
      "width": null
     }
    },
    "4758cc3ef3e04360ae588ef1e36c28a6": {
     "model_module": "@jupyter-widgets/controls",
     "model_module_version": "1.5.0",
     "model_name": "HTMLModel",
     "state": {
      "_dom_classes": [],
      "_model_module": "@jupyter-widgets/controls",
      "_model_module_version": "1.5.0",
      "_model_name": "HTMLModel",
      "_view_count": null,
      "_view_module": "@jupyter-widgets/controls",
      "_view_module_version": "1.5.0",
      "_view_name": "HTMLView",
      "description": "",
      "description_tooltip": null,
      "layout": "IPY_MODEL_f9d9418f42ef4f30b4170040618afdaf",
      "placeholder": "​",
      "style": "IPY_MODEL_22f56c0f12d54f038073d91c3ecf2da2",
      "value": " 946/946 [00:00&lt;00:00, 4342.41 examples/s]"
     }
    },
    "523eb4ae2ebf42c2862e3fb68b8c4f45": {
     "model_module": "@jupyter-widgets/controls",
     "model_module_version": "1.5.0",
     "model_name": "ProgressStyleModel",
     "state": {
      "_model_module": "@jupyter-widgets/controls",
      "_model_module_version": "1.5.0",
      "_model_name": "ProgressStyleModel",
      "_view_count": null,
      "_view_module": "@jupyter-widgets/base",
      "_view_module_version": "1.2.0",
      "_view_name": "StyleView",
      "bar_color": null,
      "description_width": ""
     }
    },
    "55daa33558c0464d92ba406eaf5ed9cd": {
     "model_module": "@jupyter-widgets/controls",
     "model_module_version": "1.5.0",
     "model_name": "DescriptionStyleModel",
     "state": {
      "_model_module": "@jupyter-widgets/controls",
      "_model_module_version": "1.5.0",
      "_model_name": "DescriptionStyleModel",
      "_view_count": null,
      "_view_module": "@jupyter-widgets/base",
      "_view_module_version": "1.2.0",
      "_view_name": "StyleView",
      "description_width": ""
     }
    },
    "5c12e1a388404055ae3474e38e0cfe1a": {
     "model_module": "@jupyter-widgets/controls",
     "model_module_version": "1.5.0",
     "model_name": "HBoxModel",
     "state": {
      "_dom_classes": [],
      "_model_module": "@jupyter-widgets/controls",
      "_model_module_version": "1.5.0",
      "_model_name": "HBoxModel",
      "_view_count": null,
      "_view_module": "@jupyter-widgets/controls",
      "_view_module_version": "1.5.0",
      "_view_name": "HBoxView",
      "box_style": "",
      "children": [
       "IPY_MODEL_9adf08ed4c404462b4e890a26323c830",
       "IPY_MODEL_c111e917efd74a3c8a4d4658ffed736f",
       "IPY_MODEL_4758cc3ef3e04360ae588ef1e36c28a6"
      ],
      "layout": "IPY_MODEL_7aac55bbd9734cfe8d6fd02ea5bea9b2"
     }
    },
    "70c3fa74e6354e55862e25f61398ee9c": {
     "model_module": "@jupyter-widgets/base",
     "model_module_version": "1.2.0",
     "model_name": "LayoutModel",
     "state": {
      "_model_module": "@jupyter-widgets/base",
      "_model_module_version": "1.2.0",
      "_model_name": "LayoutModel",
      "_view_count": null,
      "_view_module": "@jupyter-widgets/base",
      "_view_module_version": "1.2.0",
      "_view_name": "LayoutView",
      "align_content": null,
      "align_items": null,
      "align_self": null,
      "border": null,
      "bottom": null,
      "display": null,
      "flex": null,
      "flex_flow": null,
      "grid_area": null,
      "grid_auto_columns": null,
      "grid_auto_flow": null,
      "grid_auto_rows": null,
      "grid_column": null,
      "grid_gap": null,
      "grid_row": null,
      "grid_template_areas": null,
      "grid_template_columns": null,
      "grid_template_rows": null,
      "height": null,
      "justify_content": null,
      "justify_items": null,
      "left": null,
      "margin": null,
      "max_height": null,
      "max_width": null,
      "min_height": null,
      "min_width": null,
      "object_fit": null,
      "object_position": null,
      "order": null,
      "overflow": null,
      "overflow_x": null,
      "overflow_y": null,
      "padding": null,
      "right": null,
      "top": null,
      "visibility": null,
      "width": null
     }
    },
    "7399a416781541d790d3c60ecd822715": {
     "model_module": "@jupyter-widgets/controls",
     "model_module_version": "1.5.0",
     "model_name": "HBoxModel",
     "state": {
      "_dom_classes": [],
      "_model_module": "@jupyter-widgets/controls",
      "_model_module_version": "1.5.0",
      "_model_name": "HBoxModel",
      "_view_count": null,
      "_view_module": "@jupyter-widgets/controls",
      "_view_module_version": "1.5.0",
      "_view_name": "HBoxView",
      "box_style": "",
      "children": [
       "IPY_MODEL_00be305d4c1641248f93b6c74ddeb5e8",
       "IPY_MODEL_352a77379391433d900e87469216cb1d",
       "IPY_MODEL_8f019f95684f48f6a08c2361e9f74b2a"
      ],
      "layout": "IPY_MODEL_a1bb98b29b10450e9126383c2bf36c62"
     }
    },
    "7aac55bbd9734cfe8d6fd02ea5bea9b2": {
     "model_module": "@jupyter-widgets/base",
     "model_module_version": "1.2.0",
     "model_name": "LayoutModel",
     "state": {
      "_model_module": "@jupyter-widgets/base",
      "_model_module_version": "1.2.0",
      "_model_name": "LayoutModel",
      "_view_count": null,
      "_view_module": "@jupyter-widgets/base",
      "_view_module_version": "1.2.0",
      "_view_name": "LayoutView",
      "align_content": null,
      "align_items": null,
      "align_self": null,
      "border": null,
      "bottom": null,
      "display": null,
      "flex": null,
      "flex_flow": null,
      "grid_area": null,
      "grid_auto_columns": null,
      "grid_auto_flow": null,
      "grid_auto_rows": null,
      "grid_column": null,
      "grid_gap": null,
      "grid_row": null,
      "grid_template_areas": null,
      "grid_template_columns": null,
      "grid_template_rows": null,
      "height": null,
      "justify_content": null,
      "justify_items": null,
      "left": null,
      "margin": null,
      "max_height": null,
      "max_width": null,
      "min_height": null,
      "min_width": null,
      "object_fit": null,
      "object_position": null,
      "order": null,
      "overflow": null,
      "overflow_x": null,
      "overflow_y": null,
      "padding": null,
      "right": null,
      "top": null,
      "visibility": null,
      "width": null
     }
    },
    "8f019f95684f48f6a08c2361e9f74b2a": {
     "model_module": "@jupyter-widgets/controls",
     "model_module_version": "1.5.0",
     "model_name": "HTMLModel",
     "state": {
      "_dom_classes": [],
      "_model_module": "@jupyter-widgets/controls",
      "_model_module_version": "1.5.0",
      "_model_name": "HTMLModel",
      "_view_count": null,
      "_view_module": "@jupyter-widgets/controls",
      "_view_module_version": "1.5.0",
      "_view_name": "HTMLView",
      "description": "",
      "description_tooltip": null,
      "layout": "IPY_MODEL_fc42c6cf78d94a58b886ac2378dcbf5a",
      "placeholder": "​",
      "style": "IPY_MODEL_55daa33558c0464d92ba406eaf5ed9cd",
      "value": " 8043/8043 [00:01&lt;00:00, 5581.61 examples/s]"
     }
    },
    "9adf08ed4c404462b4e890a26323c830": {
     "model_module": "@jupyter-widgets/controls",
     "model_module_version": "1.5.0",
     "model_name": "HTMLModel",
     "state": {
      "_dom_classes": [],
      "_model_module": "@jupyter-widgets/controls",
      "_model_module_version": "1.5.0",
      "_model_name": "HTMLModel",
      "_view_count": null,
      "_view_module": "@jupyter-widgets/controls",
      "_view_module_version": "1.5.0",
      "_view_name": "HTMLView",
      "description": "",
      "description_tooltip": null,
      "layout": "IPY_MODEL_3de399c0524f4388a718425cc89692b5",
      "placeholder": "​",
      "style": "IPY_MODEL_acfbe837dfc14fd7b8626402071d9912",
      "value": "Map: 100%"
     }
    },
    "9dc148b3155040afa1f7168d75946786": {
     "model_module": "@jupyter-widgets/controls",
     "model_module_version": "1.5.0",
     "model_name": "ProgressStyleModel",
     "state": {
      "_model_module": "@jupyter-widgets/controls",
      "_model_module_version": "1.5.0",
      "_model_name": "ProgressStyleModel",
      "_view_count": null,
      "_view_module": "@jupyter-widgets/base",
      "_view_module_version": "1.2.0",
      "_view_name": "StyleView",
      "bar_color": null,
      "description_width": ""
     }
    },
    "a1bb98b29b10450e9126383c2bf36c62": {
     "model_module": "@jupyter-widgets/base",
     "model_module_version": "1.2.0",
     "model_name": "LayoutModel",
     "state": {
      "_model_module": "@jupyter-widgets/base",
      "_model_module_version": "1.2.0",
      "_model_name": "LayoutModel",
      "_view_count": null,
      "_view_module": "@jupyter-widgets/base",
      "_view_module_version": "1.2.0",
      "_view_name": "LayoutView",
      "align_content": null,
      "align_items": null,
      "align_self": null,
      "border": null,
      "bottom": null,
      "display": null,
      "flex": null,
      "flex_flow": null,
      "grid_area": null,
      "grid_auto_columns": null,
      "grid_auto_flow": null,
      "grid_auto_rows": null,
      "grid_column": null,
      "grid_gap": null,
      "grid_row": null,
      "grid_template_areas": null,
      "grid_template_columns": null,
      "grid_template_rows": null,
      "height": null,
      "justify_content": null,
      "justify_items": null,
      "left": null,
      "margin": null,
      "max_height": null,
      "max_width": null,
      "min_height": null,
      "min_width": null,
      "object_fit": null,
      "object_position": null,
      "order": null,
      "overflow": null,
      "overflow_x": null,
      "overflow_y": null,
      "padding": null,
      "right": null,
      "top": null,
      "visibility": null,
      "width": null
     }
    },
    "acfbe837dfc14fd7b8626402071d9912": {
     "model_module": "@jupyter-widgets/controls",
     "model_module_version": "1.5.0",
     "model_name": "DescriptionStyleModel",
     "state": {
      "_model_module": "@jupyter-widgets/controls",
      "_model_module_version": "1.5.0",
      "_model_name": "DescriptionStyleModel",
      "_view_count": null,
      "_view_module": "@jupyter-widgets/base",
      "_view_module_version": "1.2.0",
      "_view_name": "StyleView",
      "description_width": ""
     }
    },
    "c111e917efd74a3c8a4d4658ffed736f": {
     "model_module": "@jupyter-widgets/controls",
     "model_module_version": "1.5.0",
     "model_name": "FloatProgressModel",
     "state": {
      "_dom_classes": [],
      "_model_module": "@jupyter-widgets/controls",
      "_model_module_version": "1.5.0",
      "_model_name": "FloatProgressModel",
      "_view_count": null,
      "_view_module": "@jupyter-widgets/controls",
      "_view_module_version": "1.5.0",
      "_view_name": "ProgressView",
      "bar_style": "success",
      "description": "",
      "description_tooltip": null,
      "layout": "IPY_MODEL_f2a3068ede2d47ff8b23aade0f5c8eba",
      "max": 946,
      "min": 0,
      "orientation": "horizontal",
      "style": "IPY_MODEL_9dc148b3155040afa1f7168d75946786",
      "value": 946
     }
    },
    "dade04b60c944d7e8a7fc40367c2adc1": {
     "model_module": "@jupyter-widgets/controls",
     "model_module_version": "1.5.0",
     "model_name": "DescriptionStyleModel",
     "state": {
      "_model_module": "@jupyter-widgets/controls",
      "_model_module_version": "1.5.0",
      "_model_name": "DescriptionStyleModel",
      "_view_count": null,
      "_view_module": "@jupyter-widgets/base",
      "_view_module_version": "1.2.0",
      "_view_name": "StyleView",
      "description_width": ""
     }
    },
    "ebdcf153121b49c383f3d39f15ce8eff": {
     "model_module": "@jupyter-widgets/base",
     "model_module_version": "1.2.0",
     "model_name": "LayoutModel",
     "state": {
      "_model_module": "@jupyter-widgets/base",
      "_model_module_version": "1.2.0",
      "_model_name": "LayoutModel",
      "_view_count": null,
      "_view_module": "@jupyter-widgets/base",
      "_view_module_version": "1.2.0",
      "_view_name": "LayoutView",
      "align_content": null,
      "align_items": null,
      "align_self": null,
      "border": null,
      "bottom": null,
      "display": null,
      "flex": null,
      "flex_flow": null,
      "grid_area": null,
      "grid_auto_columns": null,
      "grid_auto_flow": null,
      "grid_auto_rows": null,
      "grid_column": null,
      "grid_gap": null,
      "grid_row": null,
      "grid_template_areas": null,
      "grid_template_columns": null,
      "grid_template_rows": null,
      "height": null,
      "justify_content": null,
      "justify_items": null,
      "left": null,
      "margin": null,
      "max_height": null,
      "max_width": null,
      "min_height": null,
      "min_width": null,
      "object_fit": null,
      "object_position": null,
      "order": null,
      "overflow": null,
      "overflow_x": null,
      "overflow_y": null,
      "padding": null,
      "right": null,
      "top": null,
      "visibility": null,
      "width": null
     }
    },
    "f2a3068ede2d47ff8b23aade0f5c8eba": {
     "model_module": "@jupyter-widgets/base",
     "model_module_version": "1.2.0",
     "model_name": "LayoutModel",
     "state": {
      "_model_module": "@jupyter-widgets/base",
      "_model_module_version": "1.2.0",
      "_model_name": "LayoutModel",
      "_view_count": null,
      "_view_module": "@jupyter-widgets/base",
      "_view_module_version": "1.2.0",
      "_view_name": "LayoutView",
      "align_content": null,
      "align_items": null,
      "align_self": null,
      "border": null,
      "bottom": null,
      "display": null,
      "flex": null,
      "flex_flow": null,
      "grid_area": null,
      "grid_auto_columns": null,
      "grid_auto_flow": null,
      "grid_auto_rows": null,
      "grid_column": null,
      "grid_gap": null,
      "grid_row": null,
      "grid_template_areas": null,
      "grid_template_columns": null,
      "grid_template_rows": null,
      "height": null,
      "justify_content": null,
      "justify_items": null,
      "left": null,
      "margin": null,
      "max_height": null,
      "max_width": null,
      "min_height": null,
      "min_width": null,
      "object_fit": null,
      "object_position": null,
      "order": null,
      "overflow": null,
      "overflow_x": null,
      "overflow_y": null,
      "padding": null,
      "right": null,
      "top": null,
      "visibility": null,
      "width": null
     }
    },
    "f9d9418f42ef4f30b4170040618afdaf": {
     "model_module": "@jupyter-widgets/base",
     "model_module_version": "1.2.0",
     "model_name": "LayoutModel",
     "state": {
      "_model_module": "@jupyter-widgets/base",
      "_model_module_version": "1.2.0",
      "_model_name": "LayoutModel",
      "_view_count": null,
      "_view_module": "@jupyter-widgets/base",
      "_view_module_version": "1.2.0",
      "_view_name": "LayoutView",
      "align_content": null,
      "align_items": null,
      "align_self": null,
      "border": null,
      "bottom": null,
      "display": null,
      "flex": null,
      "flex_flow": null,
      "grid_area": null,
      "grid_auto_columns": null,
      "grid_auto_flow": null,
      "grid_auto_rows": null,
      "grid_column": null,
      "grid_gap": null,
      "grid_row": null,
      "grid_template_areas": null,
      "grid_template_columns": null,
      "grid_template_rows": null,
      "height": null,
      "justify_content": null,
      "justify_items": null,
      "left": null,
      "margin": null,
      "max_height": null,
      "max_width": null,
      "min_height": null,
      "min_width": null,
      "object_fit": null,
      "object_position": null,
      "order": null,
      "overflow": null,
      "overflow_x": null,
      "overflow_y": null,
      "padding": null,
      "right": null,
      "top": null,
      "visibility": null,
      "width": null
     }
    },
    "fc42c6cf78d94a58b886ac2378dcbf5a": {
     "model_module": "@jupyter-widgets/base",
     "model_module_version": "1.2.0",
     "model_name": "LayoutModel",
     "state": {
      "_model_module": "@jupyter-widgets/base",
      "_model_module_version": "1.2.0",
      "_model_name": "LayoutModel",
      "_view_count": null,
      "_view_module": "@jupyter-widgets/base",
      "_view_module_version": "1.2.0",
      "_view_name": "LayoutView",
      "align_content": null,
      "align_items": null,
      "align_self": null,
      "border": null,
      "bottom": null,
      "display": null,
      "flex": null,
      "flex_flow": null,
      "grid_area": null,
      "grid_auto_columns": null,
      "grid_auto_flow": null,
      "grid_auto_rows": null,
      "grid_column": null,
      "grid_gap": null,
      "grid_row": null,
      "grid_template_areas": null,
      "grid_template_columns": null,
      "grid_template_rows": null,
      "height": null,
      "justify_content": null,
      "justify_items": null,
      "left": null,
      "margin": null,
      "max_height": null,
      "max_width": null,
      "min_height": null,
      "min_width": null,
      "object_fit": null,
      "object_position": null,
      "order": null,
      "overflow": null,
      "overflow_x": null,
      "overflow_y": null,
      "padding": null,
      "right": null,
      "top": null,
      "visibility": null,
      "width": null
     }
    }
   }
  }
 },
 "nbformat": 4,
 "nbformat_minor": 4
}
